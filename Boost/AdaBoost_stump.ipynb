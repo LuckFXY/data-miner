{
 "cells": [
  {
   "cell_type": "code",
   "execution_count": 2,
   "metadata": {
    "collapsed": true
   },
   "outputs": [],
   "source": [
    "import numpy as np\n",
    "import os\n",
    "import sys"
   ]
  },
  {
   "cell_type": "code",
   "execution_count": 221,
   "metadata": {},
   "outputs": [],
   "source": [
    "def loadDataSet(fileName):\n",
    "    labelMat = []\n",
    "    dataMat = []\n",
    "    index = -1\n",
    "    try:\n",
    "        numFeat = len(open(fileName).readline().split('\\t')) #get number of fields\n",
    "        with open(fileName) as fr:\n",
    "            for line in fr.readlines():\n",
    "                index += 1\n",
    "                curLine = line.strip().split('\\t')\n",
    "                for i in range(numFeat - 1):\n",
    "                    dataMat.append(np.float(curLine[i]))            \n",
    "                labelMat.append(np.float(curLine[numFeat-1]))\n",
    "            \n",
    "            dataMat = np.array(dataMat).reshape((-1,numFeat-1))\n",
    "            labelMat = np.array(labelMat)\n",
    "    except IndexError:\n",
    "        print('IndexError')\n",
    "        print(line, 'Line %d in Dataset only has %d attributes not %d !!!'%(index ,numFeat-1, numFeat) )\n",
    "    except ValueError: #IndexError\n",
    "        print(\"ValueError\")\n",
    "        print(line, 'Line %d has incomplete characters'%(index))\n",
    "    except FileNotFoundError as err:\n",
    "        print(\"PARAMETER fileName Error {0}\".format(err))\n",
    "    return dataMat, labelMat.reshape(-1,1)\n",
    "    #except:\n",
    "    #    print(\"Unexpected error:\", sys.exc_info()[0])"
   ]
  },
  {
   "cell_type": "code",
   "execution_count": 92,
   "metadata": {},
   "outputs": [
    {
     "name": "stdout",
     "output_type": "stream",
     "text": [
      "(299, 21)\n",
      "(299,)\n"
     ]
    }
   ],
   "source": [
    "filename = r'F:/GitHub/data-miner/Boost/horseColicTraining.txt'\n",
    "x, y = loadDataSet(filename)\n",
    "print(x.shape)\n",
    "print(y.shape)"
   ]
  },
  {
   "cell_type": "code",
   "execution_count": 127,
   "metadata": {},
   "outputs": [],
   "source": [
    "def stumpClassify(X, dimen, threshVal, threshIneq):\n",
    "    retArray = np.ones((X.shape[0], 1))\n",
    "    if threshIneq == 'lt':\n",
    "        retArray[X[:, dimen] <= threshVal] = -1.0\n",
    "    else:\n",
    "        retArray[X[:, dimen] > threshVal] = -1.0\n",
    "    return retArray"
   ]
  },
  {
   "cell_type": "code",
   "execution_count": 228,
   "metadata": {},
   "outputs": [],
   "source": [
    "def buildStump(X, y, D):\n",
    "    m,n = X.shape\n",
    "    numSteps = 20.0; bestStump ={}; bestClasEst = np.zeros((m,1))\n",
    "    minError = np.inf\n",
    "    for dim_i in range(n):\n",
    "        rangeMin = X[:,dim_i].min();\n",
    "        rangeMax = X[:,dim_i].max()\n",
    "        stepSize = (rangeMax - rangeMin) / numSteps\n",
    "        for j in range(-1, int(numSteps)+1 ):\n",
    "            for inequal in ['lt','gt']:\n",
    "                threshVal = (rangeMin + np.float(j) * stepSize)\n",
    "                predictedVals = \\\n",
    "                    stumpClassify(X, dim_i, threshVal, inequal)\n",
    "                errArr = np.ones((m,1))\n",
    "                errArr[predictedVals == y] = 0              \n",
    "                weightedError = np.squeeze( np.dot(D.T , errArr) )\n",
    "                if weightedError < minError:\n",
    "                    #print('split: dim %d, thresh %.2f, thresh inequal : %s\\n \\\n",
    "                    #       the weighted error : %.3f'%(dim_i, threshVal, inequal,weightedError))\n",
    "                    minError = weightedError\n",
    "                    bestClasEst = predictedVals.copy()\n",
    "                    bestStump['dim'] = dim_i\n",
    "                    bestStump['thresh'] = threshVal\n",
    "                    bestStump['ineq'] = inequal\n",
    "                    \n",
    "    return bestStump, minError, bestClasEst"
   ]
  },
  {
   "cell_type": "code",
   "execution_count": 200,
   "metadata": {},
   "outputs": [],
   "source": [
    "D = np.ones((5,1)) / 5.0"
   ]
  },
  {
   "cell_type": "code",
   "execution_count": 201,
   "metadata": {
    "collapsed": true
   },
   "outputs": [],
   "source": [
    "def loadSimpData():\n",
    "    X = np.array([\n",
    "        [1.0, 2.1],\n",
    "        [2.0, 1.1],\n",
    "        [1.3, 1.0],\n",
    "        [1.0, 1.0],\n",
    "        [2. , 1. ]\n",
    "    ])\n",
    "    y = np.array([1., 1., -1., -1., 1.]).reshape(-1,1)\n",
    "    return X,y"
   ]
  },
  {
   "cell_type": "code",
   "execution_count": 202,
   "metadata": {},
   "outputs": [
    {
     "data": {
      "text/plain": [
       "({'dim': 0, 'ineq': 'lt', 'thresh': 1.3}, array(0.2), array([[-1.],\n",
       "        [ 1.],\n",
       "        [-1.],\n",
       "        [-1.],\n",
       "        [ 1.]]))"
      ]
     },
     "execution_count": 202,
     "metadata": {},
     "output_type": "execute_result"
    }
   ],
   "source": [
    "X,y = loadSimpData()\n",
    "buildStump(X, y, D)"
   ]
  },
  {
   "cell_type": "code",
   "execution_count": 203,
   "metadata": {},
   "outputs": [
    {
     "data": {
      "text/plain": [
       "1.0"
      ]
     },
     "execution_count": 203,
     "metadata": {},
     "output_type": "execute_result"
    }
   ],
   "source": [
    "np.max([1.0,1e-6])"
   ]
  },
  {
   "cell_type": "code",
   "execution_count": 233,
   "metadata": {
    "collapsed": true
   },
   "outputs": [],
   "source": [
    "def adaBoostTrainDS(X, y, numIt = 40):\n",
    "    weakClassArr =[]\n",
    "    m = X.shape[0]\n",
    "    D = np.ones((m, 1)) / m\n",
    "    aggClassEst = np.zeros((m, 1))\n",
    "    for i in range(numIt):\n",
    "        bestStump, error, classEst = buildStump(X, y, D)\n",
    "        #print(\"D: \",D.T)\n",
    "        alpha = 0.5 * np.log((1.0 - error) / np.max([error, 1e-6]))\n",
    "        bestStump['alpha'] = alpha\n",
    "        weakClassArr.append(bestStump)\n",
    "        #print(\"classEst\",classEst.T)\n",
    "        alpha_sign = -1.0 * alpha * classEst * y\n",
    "        D_next = D * np.exp(alpha_sign)\n",
    "        D = D_next / D_next.sum()\n",
    "        aggClassEst += alpha * classEst\n",
    "        #print(\"aggClassEst\", aggClassEst.T)\n",
    "        aggErrors = np.mean(np.sign(aggClassEst) != y)\n",
    "        print(\"total error:\",aggErrors)\n",
    "        if aggErrors == 0.0:\n",
    "            break\n",
    "    return aggErrors, weakClassArr"
   ]
  },
  {
   "cell_type": "code",
   "execution_count": 234,
   "metadata": {},
   "outputs": [
    {
     "name": "stdout",
     "output_type": "stream",
     "text": [
      "total error: 0.2\n",
      "total error: 0.2\n",
      "total error: 0.0\n"
     ]
    },
    {
     "data": {
      "text/plain": [
       "(0.0,\n",
       " [{'alpha': 0.69314718055994529, 'dim': 0, 'ineq': 'lt', 'thresh': 1.3},\n",
       "  {'alpha': 0.9729550745276565, 'dim': 1, 'ineq': 'lt', 'thresh': 1.0},\n",
       "  {'alpha': 0.89587973461402726,\n",
       "   'dim': 0,\n",
       "   'ineq': 'lt',\n",
       "   'thresh': 0.94999999999999996}])"
      ]
     },
     "execution_count": 234,
     "metadata": {},
     "output_type": "execute_result"
    }
   ],
   "source": [
    "X,y = loadSimpData()\n",
    "adaBoostTrainDS(X, y, 9)"
   ]
  },
  {
   "cell_type": "code",
   "execution_count": 242,
   "metadata": {},
   "outputs": [
    {
     "name": "stdout",
     "output_type": "stream",
     "text": [
      "total error: 0.284280936455\n",
      "total error: 0.284280936455\n",
      "total error: 0.257525083612\n",
      "total error: 0.247491638796\n",
      "total error: 0.274247491639\n",
      "total error: 0.247491638796\n",
      "total error: 0.244147157191\n",
      "total error: 0.23745819398\n",
      "total error: 0.240802675585\n",
      "total error: 0.244147157191\n",
      "total error: 0.250836120401\n",
      "total error: 0.247491638796\n",
      "total error: 0.234113712375\n",
      "total error: 0.227424749164\n",
      "total error: 0.220735785953\n",
      "total error: 0.217391304348\n",
      "total error: 0.217391304348\n",
      "total error: 0.210702341137\n",
      "total error: 0.220735785953\n",
      "total error: 0.217391304348\n",
      "total error: 0.224080267559\n",
      "total error: 0.204013377926\n",
      "total error: 0.23745819398\n",
      "total error: 0.217391304348\n",
      "total error: 0.227424749164\n",
      "total error: 0.217391304348\n",
      "total error: 0.227424749164\n",
      "total error: 0.217391304348\n",
      "total error: 0.227424749164\n",
      "total error: 0.214046822742\n",
      "total error: 0.224080267559\n",
      "total error: 0.204013377926\n",
      "total error: 0.217391304348\n",
      "total error: 0.210702341137\n",
      "total error: 0.224080267559\n",
      "total error: 0.204013377926\n",
      "total error: 0.217391304348\n",
      "total error: 0.204013377926\n",
      "total error: 0.197324414716\n",
      "total error: 0.19397993311\n",
      "total error: 0.207357859532\n",
      "total error: 0.207357859532\n",
      "total error: 0.214046822742\n",
      "total error: 0.204013377926\n",
      "total error: 0.207357859532\n",
      "total error: 0.19397993311\n",
      "total error: 0.204013377926\n",
      "total error: 0.1872909699\n",
      "total error: 0.200668896321\n",
      "total error: 0.183946488294\n",
      "0.183946488294\n"
     ]
    }
   ],
   "source": [
    "filename = r'F:/GitHub/data-miner/Boost/horseColicTraining.txt'\n",
    "X, y = loadDataSet(filename)\n",
    "aggErrors, weakClassArr = adaBoostTrainDS(X, y, 50)\n",
    "print(aggErrors)"
   ]
  },
  {
   "cell_type": "code",
   "execution_count": 243,
   "metadata": {
    "collapsed": true
   },
   "outputs": [],
   "source": [
    "def adaClassify(X, CF_Arr):\n",
    "    m = X.shape[0]\n",
    "    aggClassEst = np.zeros((m,1))\n",
    "    for classify in CF_Arr:\n",
    "        classEst = stumpClassify(X, classify['dim'], \\\n",
    "                    classify['thresh'], classify['ineq'])\n",
    "        aggClassEst += classify['alpha'] * classEst\n",
    "    return np.sign(aggClassEst)"
   ]
  },
  {
   "cell_type": "code",
   "execution_count": 244,
   "metadata": {},
   "outputs": [
    {
     "name": "stdout",
     "output_type": "stream",
     "text": [
      "err =  0.183946488294\n"
     ]
    }
   ],
   "source": [
    "pred = adaClassify(X, weakClassArr)\n",
    "err = np.mean(pred != y)\n",
    "print(\"err = \",err)"
   ]
  },
  {
   "cell_type": "code",
   "execution_count": null,
   "metadata": {
    "collapsed": true
   },
   "outputs": [],
   "source": []
  }
 ],
 "metadata": {
  "kernelspec": {
   "display_name": "Python 3",
   "language": "python",
   "name": "python3"
  },
  "language_info": {
   "codemirror_mode": {
    "name": "ipython",
    "version": 3
   },
   "file_extension": ".py",
   "mimetype": "text/x-python",
   "name": "python",
   "nbconvert_exporter": "python",
   "pygments_lexer": "ipython3",
   "version": "3.5.4"
  }
 },
 "nbformat": 4,
 "nbformat_minor": 2
}
