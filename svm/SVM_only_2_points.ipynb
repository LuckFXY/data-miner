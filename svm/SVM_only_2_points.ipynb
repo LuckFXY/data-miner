{
 "cells": [
  {
   "cell_type": "code",
   "execution_count": 102,
   "metadata": {
    "collapsed": true
   },
   "outputs": [],
   "source": [
    "import numpy as np\n",
    "import tensorflow as tf"
   ]
  },
  {
   "cell_type": "code",
   "execution_count": 103,
   "metadata": {
    "collapsed": true
   },
   "outputs": [],
   "source": [
    "import matplotlib.pyplot as plt"
   ]
  },
  {
   "cell_type": "code",
   "execution_count": 104,
   "metadata": {},
   "outputs": [
    {
     "name": "stdout",
     "output_type": "stream",
     "text": [
      "[ True False]\n",
      "[[1]\n",
      " [1]]\n"
     ]
    }
   ],
   "source": [
    "x = np.array([[1,1], [0,0]]).T\n",
    "y = np.array([1., -1.], dtype=np.float32).reshape(-1,1)\n",
    "print(np.squeeze(y==1))\n",
    "\n",
    "x_pos = x[ :, np.squeeze(y==1) ]\n",
    "x_neg = x[ :, np.squeeze(y==-1) ]\n",
    "print(x_pos)\n"
   ]
  },
  {
   "cell_type": "code",
   "execution_count": 105,
   "metadata": {
    "collapsed": true
   },
   "outputs": [],
   "source": [
    "def draw_point(v, color):\n",
    "    \"\"\"\n",
    "    v :   array shape=(n*2)\n",
    "    color string \n",
    "    \"\"\"\n",
    "    plt.scatter(v[0],v[1], c = color)"
   ]
  },
  {
   "cell_type": "code",
   "execution_count": 106,
   "metadata": {},
   "outputs": [
    {
     "data": {
      "image/png": "[encoded data removed]",
      "text/plain": [
       "<matplotlib.figure.Figure at 0xcc1ab38>"
      ]
     },
     "metadata": {},
     "output_type": "display_data"
    }
   ],
   "source": [
    "draw_point(x_pos, 'r')\n",
    "draw_point(x_neg, 'b')\n",
    "plt.show()"
   ]
  },
  {
   "cell_type": "code",
   "execution_count": 107,
   "metadata": {
    "collapsed": true
   },
   "outputs": [],
   "source": [
    "sess = tf.Session()"
   ]
  },
  {
   "cell_type": "code",
   "execution_count": 108,
   "metadata": {
    "collapsed": true
   },
   "outputs": [],
   "source": [
    "data_shape =(2, 2)\n",
    "tensor_x = tf.placeholder(name = 'x',     dtype = tf.float32, shape =data_shape    )\n",
    "tensor_y = tf.placeholder(name = 'symbol',dtype = tf.float32, shape =(data_shape[-1], 1))\n",
    "tensor_a = tf.Variable(   name = 'alpha', dtype = tf.float32, initial_value=tf.random_normal(tensor_y.shape), validate_shape=False)"
   ]
  },
  {
   "cell_type": "code",
   "execution_count": 109,
   "metadata": {},
   "outputs": [
    {
     "data": {
      "text/plain": [
       "array([[ 1.,  0.],\n",
       "       [ 0., -1.]], dtype=float32)"
      ]
     },
     "execution_count": 109,
     "metadata": {},
     "output_type": "execute_result"
    }
   ],
   "source": [
    "y_diag = tf.diag(tf.squeeze(y))\n",
    "sess.run(y_diag,feed_dict={tensor_y : y})"
   ]
  },
  {
   "cell_type": "code",
   "execution_count": 110,
   "metadata": {},
   "outputs": [
    {
     "name": "stdout",
     "output_type": "stream",
     "text": [
      "Tensor(\"MatMul_34:0\", shape=(2, 2), dtype=float32) Tensor(\"Diag_14:0\", shape=(2, 2), dtype=float32)\n",
      "[[ 2.  0.]\n",
      " [ 0.  0.]]\n"
     ]
    }
   ],
   "source": [
    "H_0 = tf.matmul(tf.transpose(tensor_x), tensor_x)\n",
    "#print(sess.run(H_0, feed_dict={tensor_x : x}))\n",
    "y_diag = tf.diag(tf.squeeze(y))\n",
    "print(H_0,y_diag)\n",
    "H_1 = tf.matmul(y_diag, H_0)\n",
    "H = tf.matmul(H_1, y_diag)\n",
    "print(sess.run(H, feed_dict={tensor_x : x, tensor_y : y}))"
   ]
  },
  {
   "cell_type": "code",
   "execution_count": 111,
   "metadata": {
    "collapsed": true
   },
   "outputs": [],
   "source": [
    "init = tf.variables_initializer([tensor_a])\n",
    "sess.run(init)"
   ]
  },
  {
   "cell_type": "code",
   "execution_count": 112,
   "metadata": {
    "collapsed": true
   },
   "outputs": [],
   "source": [
    "prod_a_1 =tf.matmul(tf.transpose(tensor_a),H)\n",
    "prod_a = tf.matmul(prod_a_1, tensor_a)"
   ]
  },
  {
   "cell_type": "code",
   "execution_count": 113,
   "metadata": {},
   "outputs": [
    {
     "data": {
      "text/plain": [
       "array([[ 0.75581187]], dtype=float32)"
      ]
     },
     "execution_count": 113,
     "metadata": {},
     "output_type": "execute_result"
    }
   ],
   "source": [
    "sess.run(prod_a, feed_dict={tensor_x : x, tensor_y : y})"
   ]
  },
  {
   "cell_type": "code",
   "execution_count": 114,
   "metadata": {},
   "outputs": [
    {
     "name": "stdout",
     "output_type": "stream",
     "text": [
      "[[ 1.]\n",
      " [ 1.]]\n"
     ]
    }
   ],
   "source": [
    "sess.run(tensor_a.assign([[1],[1]]))\n",
    "print(sess.run(tensor_a))"
   ]
  },
  {
   "cell_type": "code",
   "execution_count": 115,
   "metadata": {},
   "outputs": [
    {
     "data": {
      "text/plain": [
       "array([[ 1.]], dtype=float32)"
      ]
     },
     "execution_count": 115,
     "metadata": {},
     "output_type": "execute_result"
    }
   ],
   "source": [
    "Ld = tf.reduce_sum(tensor_a) - 0.5 * prod_a\n",
    "sess.run(Ld, feed_dict={tensor_x : x, tensor_y : y})"
   ]
  },
  {
   "cell_type": "code",
   "execution_count": 116,
   "metadata": {},
   "outputs": [
    {
     "name": "stdout",
     "output_type": "stream",
     "text": [
      "[ 1.  1.]\n"
     ]
    }
   ],
   "source": [
    "w_1 = tf.diag(tf.squeeze(tensor_a * tensor_y))\n",
    "w_2 = tf.matmul(tensor_x, w_1)\n",
    "#w = tf.reduce_sum(w_2, axis = 1)\n",
    "w = tf.einsum(\"ij->i\",w_2)\n",
    "w_res = sess.run(w, feed_dict={tensor_x : x, tensor_y : y})\n",
    "print(w_res )"
   ]
  },
  {
   "cell_type": "code",
   "execution_count": 117,
   "metadata": {},
   "outputs": [
    {
     "name": "stdout",
     "output_type": "stream",
     "text": [
      "-1.0\n"
     ]
    }
   ],
   "source": [
    "sess.run(tensor_x,feed_dict={tensor_x : x})\n",
    "\n",
    "\n",
    "tensor_x_1 = tf.placeholder(name='x1',dtype=tf.float32,shape=(2,))\n",
    "#print(-w,tensor_x_1)\n",
    "\n",
    "b = tf.einsum(\"i,i ->i\",-w,tensor_x_1) + 1\n",
    "b_res = sess.run(b, feed_dict={tensor_x : x, tensor_x_1 : x[:,0], tensor_y : y}) \n",
    "print(b_res)"
   ]
  },
  {
   "cell_type": "code",
   "execution_count": 118,
   "metadata": {},
   "outputs": [
    {
     "name": "stdout",
     "output_type": "stream",
     "text": [
      "[ 1. -1.]\n"
     ]
    }
   ],
   "source": [
    "gx = tf.einsum(\"i,ij->j\", w, tensor_x) + b\n",
    "print(sess.run(gx, feed_dict={tensor_x : x, tensor_x_1 : x[:,0], tensor_y : y}) )"
   ]
  },
  {
   "cell_type": "code",
   "execution_count": 144,
   "metadata": {},
   "outputs": [
    {
     "data": {
      "image/png": "[encoded data removed]",
      "text/plain": [
       "<matplotlib.figure.Figure at 0xe655a90>"
      ]
     },
     "metadata": {},
     "output_type": "display_data"
    }
   ],
   "source": [
    "x_test = np.random.normal(size=(2,400))\n",
    "plt.scatter(x_test[0],x_test[1])\n",
    "plt.show()"
   ]
  },
  {
   "cell_type": "code",
   "execution_count": 178,
   "metadata": {},
   "outputs": [
    {
     "name": "stdout",
     "output_type": "stream",
     "text": [
      "(2, 400)\n"
     ]
    },
    {
     "data": {
      "image/png": "[encoded data removed]",
      "text/plain": [
       "<matplotlib.figure.Figure at 0xec28dd8>"
      ]
     },
     "metadata": {},
     "output_type": "display_data"
    }
   ],
   "source": [
    "gx_output = np.einsum(\"i,ij ->j\",w_res,x_test) + b_res\n",
    "print(x_test.shape)\n",
    "x_pos = x_test.T[0 < gx_output]\n",
    "x_neg = x_test.T[gx_output < 0]\n",
    "\n",
    "x_pos_sp = x_test.T[np.abs(gx_output-1)<1e-1]\n",
    "x_neg_sp = x_test.T[np.abs(gx_output+1)<1e-1]\n",
    "\n",
    "x_pos_sp = x_pos_sp[x_pos_sp[:,0].argsort()]\n",
    "x_neg_sp = x_neg_sp[x_neg_sp[:,0].argsort()]\n",
    "\n",
    "plt.scatter(x_pos[:,0],x_pos[:,1],c ='yellow')\n",
    "plt.scatter(x_neg[:,0],x_neg[:,1],c ='b')\n",
    "plt.plot(x_pos_sp[:,0],x_pos_sp[:,1],c ='r')\n",
    "plt.plot(x_neg_sp[:,0],x_neg_sp[:,1],c ='black')\n",
    "plt.show()"
   ]
  }
 ],
 "metadata": {
  "kernelspec": {
   "display_name": "Python 3",
   "language": "python",
   "name": "python3"
  },
  "language_info": {
   "codemirror_mode": {
    "name": "ipython",
    "version": 3
   },
   "file_extension": ".py",
   "mimetype": "text/x-python",
   "name": "python",
   "nbconvert_exporter": "python",
   "pygments_lexer": "ipython3",
   "version": "3.5.4"
  }
 },
 "nbformat": 4,
 "nbformat_minor": 2
}
