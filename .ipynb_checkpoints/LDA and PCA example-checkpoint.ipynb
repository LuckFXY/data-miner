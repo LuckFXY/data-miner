{
 "cells": [
  {
   "cell_type": "code",
   "execution_count": 1,
   "metadata": {
    "collapsed": true
   },
   "outputs": [],
   "source": [
    "from numpy import random, vstack, stack, dot, cov, diag, array, arange, argmax, float32, mean, sqrt\n",
    "from numpy.linalg import inv, eig\n",
    "import matplotlib.pyplot as plt"
   ]
  },
  {
   "cell_type": "markdown",
   "metadata": {},
   "source": [
    "## -----------------------------------------------PCA-----------------------------------------------"
   ]
  },
  {
   "cell_type": "markdown",
   "metadata": {},
   "source": [
    "### Dateset"
   ]
  },
  {
   "cell_type": "code",
   "execution_count": 2,
   "metadata": {},
   "outputs": [
    {
     "name": "stdout",
     "output_type": "stream",
     "text": [
      "(5, 2)\n"
     ]
    }
   ],
   "source": [
    "c1 = array( [[1,2], [2,3], [3,3], [4,5], [5,5] ], dtype = float32)\n",
    "c2 = array( [[1,0], [2,1], [3,1], [3,2], [5,3], [6,5]], dtype = float32)\n",
    "print(c1.shape)"
   ]
  },
  {
   "cell_type": "markdown",
   "metadata": {},
   "source": [
    "### Covariance of [ c1; c2 ] "
   ]
  },
  {
   "cell_type": "code",
   "execution_count": 3,
   "metadata": {
    "collapsed": true
   },
   "outputs": [],
   "source": [
    "c1c2 = vstack((c1,c2))"
   ]
  },
  {
   "cell_type": "code",
   "execution_count": 4,
   "metadata": {},
   "outputs": [
    {
     "name": "stdout",
     "output_type": "stream",
     "text": [
      "[[ 2.76363636  2.25454545]\n",
      " [ 2.25454545  3.01818182]]\n"
     ]
    }
   ],
   "source": [
    "Z = cov(c1c2.T)\n",
    "print(Z)"
   ]
  },
  {
   "cell_type": "markdown",
   "metadata": {},
   "source": [
    "### Eigenvectors and Eigenvalues of Z"
   ]
  },
  {
   "cell_type": "code",
   "execution_count": 5,
   "metadata": {},
   "outputs": [
    {
     "name": "stdout",
     "output_type": "stream",
     "text": [
      "[[ 0.63277412  0.        ]\n",
      " [ 0.          5.14904406]]\n",
      "[[-0.72676058 -0.68689087]\n",
      " [ 0.68689087 -0.72676058]]\n"
     ]
    }
   ],
   "source": [
    "D, V = eig(Z)\n",
    "print(diag(D))\n",
    "print(V)"
   ]
  },
  {
   "cell_type": "markdown",
   "metadata": {},
   "source": [
    "### The direction of PCA projection"
   ]
  },
  {
   "cell_type": "code",
   "execution_count": 6,
   "metadata": {},
   "outputs": [
    {
     "name": "stdout",
     "output_type": "stream",
     "text": [
      "1\n",
      "[-0.68689087 -0.72676058]\n"
     ]
    }
   ],
   "source": [
    "PCA_projection = V[:, argmax(D)]\n",
    "print(PCA_projection)"
   ]
  },
  {
   "cell_type": "markdown",
   "metadata": {},
   "source": [
    "## ------------------------------------------------------------LDA------------------------------------------------"
   ]
  },
  {
   "cell_type": "markdown",
   "metadata": {},
   "source": [
    "### The mean of each class"
   ]
  },
  {
   "cell_type": "code",
   "execution_count": 7,
   "metadata": {},
   "outputs": [
    {
     "name": "stdout",
     "output_type": "stream",
     "text": [
      "[[ 0.11111106 -0.53333318]\n",
      " [-0.53333318  2.5599997 ]]\n"
     ]
    }
   ],
   "source": [
    "mu1 = mean(c1, axis=0).reshape((2, 1))\n",
    "mu2 = mean(c2, axis=0).reshape((2, 1))\n",
    "Sb = dot((mu1 - mu2), (mu1 - mu2).T)\n",
    "print(Sb)"
   ]
  },
  {
   "cell_type": "markdown",
   "metadata": {},
   "source": [
    "### The scatter of each class"
   ]
  },
  {
   "cell_type": "code",
   "execution_count": 8,
   "metadata": {},
   "outputs": [
    {
     "name": "stdout",
     "output_type": "stream",
     "text": [
      "[[ 12.5  10. ]\n",
      " [ 10.    9. ]]\n",
      "[[ 33.3  29.2]\n",
      " [ 29.2  28.2]]\n"
     ]
    }
   ],
   "source": [
    "s1 = c1.shape[0] * cov(c1.T)\n",
    "s2 = c2.shape[0] * cov(c2.T)\n",
    "print(s1)\n",
    "Sw = s1 + s2\n",
    "print(Sw)"
   ]
  },
  {
   "cell_type": "code",
   "execution_count": 9,
   "metadata": {},
   "outputs": [
    {
     "name": "stdout",
     "output_type": "stream",
     "text": [
      "[[ 0.21646217 -1.0390186 ]\n",
      " [-0.24305066  1.16664336]]\n"
     ]
    }
   ],
   "source": [
    "Sw_1Sb = dot(inv(Sw), Sb)\n",
    "print(Sw_1Sb)"
   ]
  },
  {
   "cell_type": "markdown",
   "metadata": {},
   "source": [
    "### Eigenvectors and Eigenvalues of Sw_1Sb"
   ]
  },
  {
   "cell_type": "code",
   "execution_count": 10,
   "metadata": {},
   "outputs": [
    {
     "name": "stdout",
     "output_type": "stream",
     "text": [
      "[[-0.97898043  0.6650795 ]\n",
      " [-0.20395422 -0.74677256]]\n",
      "[ -2.65956146e-11   1.38310553e+00]\n"
     ]
    }
   ],
   "source": [
    "ss_D, ss_V = eig(Sw_1Sb)\n",
    "print(ss_V)\n",
    "print(ss_D)"
   ]
  },
  {
   "cell_type": "markdown",
   "metadata": {},
   "source": [
    "one of the eigenvalues of Sw_1Sb is ** zero** ,so one direction of data is useless after the LDA transfrom of 2-classify problem."
   ]
  },
  {
   "cell_type": "code",
   "execution_count": 11,
   "metadata": {},
   "outputs": [
    {
     "name": "stdout",
     "output_type": "stream",
     "text": [
      "[ 0.6650795  -0.74677256]\n"
     ]
    }
   ],
   "source": [
    "print(ss_V[:,argmax(ss_D)])"
   ]
  },
  {
   "cell_type": "markdown",
   "metadata": {},
   "source": [
    "### Alternatively"
   ]
  },
  {
   "cell_type": "code",
   "execution_count": 12,
   "metadata": {},
   "outputs": [
    {
     "name": "stdout",
     "output_type": "stream",
     "text": [
      "[[-0.64938666]\n",
      " [ 0.72915214]]\n"
     ]
    }
   ],
   "source": [
    "LDA_projection=dot(inv(Sw), (mu1 - mu2))\n",
    "print(LDA_projection)"
   ]
  },
  {
   "cell_type": "markdown",
   "metadata": {
    "collapsed": true
   },
   "source": [
    "### After normalization"
   ]
  },
  {
   "cell_type": "code",
   "execution_count": 14,
   "metadata": {},
   "outputs": [
    {
     "name": "stdout",
     "output_type": "stream",
     "text": [
      "[[-0.6650795 ]\n",
      " [ 0.74677256]]\n"
     ]
    }
   ],
   "source": [
    "m = dot(LDA_projection.T, LDA_projection)\n",
    "print(LDA_projection / sqrt(m))"
   ]
  },
  {
   "cell_type": "code",
   "execution_count": 15,
   "metadata": {},
   "outputs": [
    {
     "data": {
      "image/png": "[encoded data removed]",
      "text/plain": [
       "<matplotlib.figure.Figure at 0x7e4b208>"
      ]
     },
     "metadata": {},
     "output_type": "display_data"
    }
   ],
   "source": [
    "plt.scatter(c1[:,0],c1[:,1],c='r')\n",
    "plt.scatter(c2[:,0],c2[:,1],c='b')\n",
    "plt.show()"
   ]
  },
  {
   "cell_type": "code",
   "execution_count": 16,
   "metadata": {},
   "outputs": [
    {
     "name": "stdout",
     "output_type": "stream",
     "text": [
      "[-3.  -2.5 -2.  -1.5 -1.  -0.5  0.   0.5  1.   1.5  2.   2.5  3.   3.5  4.\n",
      "  4.5  5.   5.5]\n",
      "[-3.17413121 -2.64510934 -2.11608748 -1.58706561 -1.05804374 -0.52902187\n",
      "  0.          0.52902187  1.05804374  1.58706561  2.11608748  2.64510934\n",
      "  3.17413121  3.70315308  4.23217495  4.76119682  5.29021869  5.81924056]\n",
      "[ 3.36849609  2.80708007  2.24566406  1.68424804  1.12283203  0.56141601\n",
      " -0.         -0.56141601 -1.12283203 -1.68424804 -2.24566406 -2.80708007\n",
      " -3.36849609 -3.9299121  -4.49132812 -5.05274413 -5.61416015 -6.17557616]\n"
     ]
    }
   ],
   "source": [
    "x = arange(-3,6,0.5)\n",
    "print(x)\n",
    "PCA = PCA_projection[1] / PCA_projection[0] * x\n",
    "LDA = LDA_projection[1] / LDA_projection[0] * x\n",
    "print(PCA)\n",
    "print(LDA)"
   ]
  },
  {
   "cell_type": "code",
   "execution_count": 17,
   "metadata": {},
   "outputs": [
    {
     "data": {
      "image/png": "[encoded data removed]",
      "text/plain": [
       "<matplotlib.figure.Figure at 0x7f04d30>"
      ]
     },
     "metadata": {},
     "output_type": "display_data"
    }
   ],
   "source": [
    "plt.scatter(c1[:,0],c1[:,1],c='r')\n",
    "plt.scatter(c2[:,0],c2[:,1],c='b')\n",
    "plt.plot(x, PCA,c='c')\n",
    "plt.plot(x, LDA,c='g')\n",
    "ax = plt.gca()\n",
    "ax.set_aspect(1)\n",
    "ax.grid(True)\n",
    "plt.show()"
   ]
  },
  {
   "cell_type": "markdown",
   "metadata": {},
   "source": [
    "### 3-Class LDA"
   ]
  },
  {
   "cell_type": "code",
   "execution_count": 18,
   "metadata": {
    "collapsed": true
   },
   "outputs": [],
   "source": [
    "N1 = 1000; N2 = 500; N3 = 2000;\n",
    "#mu = [0,0]\n",
    "#cov = [[1, 0], [0, 1]]\n",
    "X1 = random.multivariate_normal([0,0], [[1, 0], [0, 1]],  N1) \n",
    "X2 = random.multivariate_normal([3, 6], [[1, -0.8], [-0.8, 1]], N2)\n",
    "X3 = random.multivariate_normal([10, 6], [[1, 0.8], [0.8, 1]], N3)"
   ]
  },
  {
   "cell_type": "code",
   "execution_count": 19,
   "metadata": {},
   "outputs": [
    {
     "data": {
      "image/png": "[encoded data removed]",
      "text/plain": [
       "<matplotlib.figure.Figure at 0x7f5d978>"
      ]
     },
     "metadata": {},
     "output_type": "display_data"
    }
   ],
   "source": [
    "plt.scatter(X1[:, 0], X1[:, 1], c='r')\n",
    "plt.scatter(X2[:, 0], X2[:, 1], c='b')\n",
    "plt.scatter(X3[:, 0], X3[:, 1], c='g')\n",
    "plt.show()"
   ]
  },
  {
   "cell_type": "code",
   "execution_count": 20,
   "metadata": {},
   "outputs": [
    {
     "name": "stdout",
     "output_type": "stream",
     "text": [
      "[[ 1002.4487628    -13.32807657]\n",
      " [  -13.32807657   950.7546679 ]]\n"
     ]
    }
   ],
   "source": [
    "S1 = (N1-1) * cov(X1.T)\n",
    "S2 = (N2-1) * cov(X2.T)\n",
    "S3 = (N3-1) * cov(X3.T)\n",
    "print(S1)"
   ]
  },
  {
   "cell_type": "code",
   "execution_count": 21,
   "metadata": {
    "collapsed": true
   },
   "outputs": [],
   "source": [
    "Sw = S1 + S2 + S3\n",
    "M1 = mean(X1, axis = 0); M2 = mean(X2, axis = 0); M3 = mean(X3, axis = 0);\n",
    "Mu = (N1 * M1 + N2 * M2 + N3 * M3) / (N1 + N2 + N3)\n",
    "Sb = N1 * dot((M1-Mu).T, (M1-Mu)) + N2 * dot((M2-Mu).T, (M2-Mu)) + N3 * dot((M3-Mu).T, (M3-Mu))\n",
    "J = inv(Sw) * Sb\n",
    "D3, V3 = eig(J)"
   ]
  },
  {
   "cell_type": "code",
   "execution_count": 22,
   "metadata": {},
   "outputs": [
    {
     "name": "stdout",
     "output_type": "stream",
     "text": [
      "[ 40.87249554  21.63461395]\n",
      "[[ 0.70835493  0.70585642]\n",
      " [-0.70585642  0.70835493]]\n"
     ]
    }
   ],
   "source": [
    "print(D3)\n",
    "print(V3)"
   ]
  },
  {
   "cell_type": "code",
   "execution_count": 23,
   "metadata": {},
   "outputs": [
    {
     "data": {
      "image/png": "[encoded data removed]",
      "text/plain": [
       "<matplotlib.figure.Figure at 0x8017780>"
      ]
     },
     "metadata": {},
     "output_type": "display_data"
    }
   ],
   "source": [
    "x3 = arange(-4,13,0.5)\n",
    "LDA3_1 = V3[0,1] / V3[0,0] * x3\n",
    "LDA3_2 = V3[1,1] / V3[1,0] * x3[:10]\n",
    "plt.scatter(X1[:, 0], X1[:, 1], c='r')\n",
    "plt.scatter(X2[:, 0], X2[:, 1], c='b')\n",
    "plt.scatter(X3[:, 0], X3[:, 1], c='g')\n",
    "plt.plot(x3, LDA3_1,  c='black')\n",
    "plt.plot(x3[:10], LDA3_2,  c='c')\n",
    "ax = plt.gca()\n",
    "ax.set_aspect(1)\n",
    "ax.grid(True)\n",
    "plt.show()"
   ]
  },
  {
   "cell_type": "code",
   "execution_count": 24,
   "metadata": {},
   "outputs": [
    {
     "data": {
      "image/png": "[encoded data removed]",
      "text/plain": [
       "<matplotlib.figure.Figure at 0x7f22b70>"
      ]
     },
     "metadata": {},
     "output_type": "display_data"
    }
   ],
   "source": [
    "fig, ax = plt.subplots(1,2,figsize=(15,5))\n",
    "X1_1=dot(X1, V3[:,0]).reshape(-1,1)\n",
    "X2_1=dot(X2, V3[:,0]).reshape(-1,1)\n",
    "X3_1=dot(X3, V3[:,0]).reshape(-1,1)\n",
    "ax[0].hist(X1_1,color='r')\n",
    "ax[0].hist(X2_1,color='b')\n",
    "ax[0].hist(X3_1,color='g')\n",
    "X1_2=dot(X1, V3[:,1]).reshape(-1,1)\n",
    "X2_2=dot(X2, V3[:,1]).reshape(-1,1)\n",
    "X3_2=dot(X3, V3[:,1]).reshape(-1,1)\n",
    "ax[1].hist(X1_2,color='r')\n",
    "ax[1].hist(X2_2,color='b')\n",
    "ax[1].hist(X3_2,color='g')\n",
    "plt.show()"
   ]
  },
  {
   "cell_type": "code",
   "execution_count": null,
   "metadata": {
    "collapsed": true
   },
   "outputs": [],
   "source": []
  }
 ],
 "metadata": {
  "kernelspec": {
   "display_name": "Python 3",
   "language": "python",
   "name": "python3"
  },
  "language_info": {
   "codemirror_mode": {
    "name": "ipython",
    "version": 3
   },
   "file_extension": ".py",
   "mimetype": "text/x-python",
   "name": "python",
   "nbconvert_exporter": "python",
   "pygments_lexer": "ipython3",
   "version": "3.5.4"
  }
 },
 "nbformat": 4,
 "nbformat_minor": 2
}
